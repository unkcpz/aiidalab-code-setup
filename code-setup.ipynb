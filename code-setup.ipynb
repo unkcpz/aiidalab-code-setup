{
 "cells": [
  {
   "cell_type": "code",
   "execution_count": 1,
   "metadata": {},
   "outputs": [
    {
     "data": {
      "application/javascript": [
       "IPython.OutputArea.prototype._should_scroll = function(lines) {\n",
       "    return false;\n",
       "}\n",
       "document.title='AiiDAlab code setup'\n"
      ],
      "text/plain": [
       "<IPython.core.display.Javascript object>"
      ]
     },
     "metadata": {},
     "output_type": "display_data"
    }
   ],
   "source": [
    "%%javascript\n",
    "IPython.OutputArea.prototype._should_scroll = function(lines) {\n",
    "    return false;\n",
    "}\n",
    "document.title='AiiDAlab code setup'"
   ]
  },
  {
   "cell_type": "code",
   "execution_count": 2,
   "metadata": {},
   "outputs": [
    {
     "data": {
      "application/vnd.jupyter.widget-view+json": {
       "model_id": "a55f3f2b31f146a0b91affa4f221355e",
       "version_major": 2,
       "version_minor": 0
      },
      "text/plain": [
       "CodeSetupWidget(children=(BinaryInstallWidget(children=(Dropdown(description='Select simulation code to instal…"
      ]
     },
     "metadata": {},
     "output_type": "display_data"
    },
    {
     "name": "stderr",
     "output_type": "stream",
     "text": [
      "Exception in thread Thread-4:\n",
      "Traceback (most recent call last):\n",
      "  File \"/opt/conda/lib/python3.9/threading.py\", line 954, in _bootstrap_inner\n",
      "    self.run()\n",
      "  File \"/opt/conda/lib/python3.9/threading.py\", line 892, in run\n",
      "    self._target(*self._args, **self._kwargs)\n",
      "  File \"/home/jovyan/apps/aiidalab-code-setup/aiidalab_code_setup/widgets.py\", line 174, in _install\n",
      "    self.set_trait(\"installed\", True)\n",
      "  File \"/opt/conda/lib/python3.9/site-packages/traitlets/traitlets.py\", line 1433, in set_trait\n",
      "    raise TraitError(\"Class %s does not have a trait named %s\" %\n",
      "traitlets.traitlets.TraitError: Class BinaryInstallWidget does not have a trait named installed\n"
     ]
    }
   ],
   "source": [
    "from aiidalab_code_setup import CodeSetupWidget\n",
    "\n",
    "code_setup_widget = CodeSetupWidget()\n",
    "\n",
    "display(code_setup_widget)"
   ]
  },
  {
   "cell_type": "code",
   "execution_count": null,
   "metadata": {},
   "outputs": [],
   "source": []
  }
 ],
 "metadata": {
  "kernelspec": {
   "display_name": "Python 3",
   "language": "python",
   "name": "python3"
  },
  "language_info": {
   "codemirror_mode": {
    "name": "ipython",
    "version": 3
   },
   "file_extension": ".py",
   "mimetype": "text/x-python",
   "name": "python",
   "nbconvert_exporter": "python",
   "pygments_lexer": "ipython3",
   "version": "3.9.4"
  }
 },
 "nbformat": 4,
 "nbformat_minor": 2
}
